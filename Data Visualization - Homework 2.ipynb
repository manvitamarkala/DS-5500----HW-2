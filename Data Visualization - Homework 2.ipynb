{
 "cells": [
  {
   "cell_type": "code",
   "execution_count": 89,
   "metadata": {},
   "outputs": [],
   "source": [
    "import pandas as pd \n",
    "import numpy as np\n",
    "import matplotlib.pyplot as plot\n",
    "from sklearn.model_selection import train_test_split\n",
    "from sklearn.linear_model import LinearRegression\n",
    "import statsmodels.api as sm\n",
    "import statsmodels.formula.api as smf\n",
    "\n",
    "gdp = pd.read_csv(\"C:/Users/manvi/OneDrive/Documents/Information Visualisation/ddf--gapminder--systema_globalis-master/ddf--gapminder--systema_globalis-master/ddf--datapoints--income_per_person_gdppercapita_ppp_inflation_adjusted--by--geo--time.csv\")\n",
    "lifeexpectancy = pd.read_csv(\"C:/Users/manvi/OneDrive/Documents/Information Visualisation/ddf--gapminder--systema_globalis-master/ddf--gapminder--systema_globalis-master/ddf--datapoints--life_expectancy_years--by--geo--time.csv\")\n",
    "gdp_lifeexp = pd.merge(gdp,lifeexpectancy, how='inner',left_on=['geo','time'], right_on=['geo','time'])\n",
    "\n",
    "gdp_lifeexp=gdp_lifeexp.groupby(['time']).agg({'time':np.mean,'income_per_person_gdppercapita_ppp_inflation_adjusted': np.mean, \n",
    "                                      'life_expectancy_years': np.mean})"
   ]
  },
  {
   "cell_type": "code",
   "execution_count": 90,
   "metadata": {},
   "outputs": [
    {
     "name": "stdout",
     "output_type": "stream",
     "text": [
      "data1: mean=4590.118 stdv=4947.494\n",
      "data2: mean=43.051 stdv=14.411\n"
     ]
    },
    {
     "data": {
      "image/png": "[encoded data removed]",
      "text/plain": [
       "<Figure size 432x288 with 1 Axes>"
      ]
     },
     "metadata": {
      "needs_background": "light"
     },
     "output_type": "display_data"
    }
   ],
   "source": [
    "# generate related variables\n",
    "# prepare data\n",
    "data1 = gdp_lifeexp['income_per_person_gdppercapita_ppp_inflation_adjusted']\n",
    "data2 = gdp_lifeexp['life_expectancy_years']\n",
    "# summarize\n",
    "print('data1: mean=%.3f stdv=%.3f' % (np.mean(data1), np.std(data1)))\n",
    "print('data2: mean=%.3f stdv=%.3f' % (np.mean(data2), np.std(data2)))\n",
    "# plot\n",
    "plot.scatter(data1, data2)\n",
    "plot.title('Life Expectancy Vs Income')\n",
    "plot.xlabel('Income')\n",
    "plot.ylabel('Life Expectancy')\n",
    "plot.show()"
   ]
  },
  {
   "cell_type": "code",
   "execution_count": 91,
   "metadata": {},
   "outputs": [
    {
     "data": {
      "image/png": "[encoded data removed]",
      "text/plain": [
       "<Figure size 432x288 with 1 Axes>"
      ]
     },
     "metadata": {
      "needs_background": "light"
     },
     "output_type": "display_data"
    },
    {
     "data": {
      "text/html": [
       "<table class=\"simpletable\">\n",
       "<caption>OLS Regression Results</caption>\n",
       "<tr>\n",
       "  <th>Dep. Variable:</th>            <td>y</td>        <th>  R-squared:         </th> <td>   0.927</td> \n",
       "</tr>\n",
       "<tr>\n",
       "  <th>Model:</th>                   <td>OLS</td>       <th>  Adj. R-squared:    </th> <td>   0.927</td> \n",
       "</tr>\n",
       "<tr>\n",
       "  <th>Method:</th>             <td>Least Squares</td>  <th>  F-statistic:       </th> <td>   2770.</td> \n",
       "</tr>\n",
       "<tr>\n",
       "  <th>Date:</th>             <td>Sat, 26 Oct 2019</td> <th>  Prob (F-statistic):</th> <td>1.55e-125</td>\n",
       "</tr>\n",
       "<tr>\n",
       "  <th>Time:</th>                 <td>13:37:27</td>     <th>  Log-Likelihood:    </th> <td> -607.90</td> \n",
       "</tr>\n",
       "<tr>\n",
       "  <th>No. Observations:</th>      <td>   219</td>      <th>  AIC:               </th> <td>   1220.</td> \n",
       "</tr>\n",
       "<tr>\n",
       "  <th>Df Residuals:</th>          <td>   217</td>      <th>  BIC:               </th> <td>   1227.</td> \n",
       "</tr>\n",
       "<tr>\n",
       "  <th>Df Model:</th>              <td>     1</td>      <th>                     </th>     <td> </td>    \n",
       "</tr>\n",
       "<tr>\n",
       "  <th>Covariance Type:</th>      <td>nonrobust</td>    <th>                     </th>     <td> </td>    \n",
       "</tr>\n",
       "</table>\n",
       "<table class=\"simpletable\">\n",
       "<tr>\n",
       "      <td></td>         <th>coef</th>     <th>std err</th>      <th>t</th>      <th>P>|t|</th>  <th>[0.025</th>    <th>0.975]</th>  \n",
       "</tr>\n",
       "<tr>\n",
       "  <th>Intercept</th> <td>   30.1760</td> <td>    0.360</td> <td>   83.900</td> <td> 0.000</td> <td>   29.467</td> <td>   30.885</td>\n",
       "</tr>\n",
       "<tr>\n",
       "  <th>x</th>         <td>    0.0028</td> <td> 5.33e-05</td> <td>   52.633</td> <td> 0.000</td> <td>    0.003</td> <td>    0.003</td>\n",
       "</tr>\n",
       "</table>\n",
       "<table class=\"simpletable\">\n",
       "<tr>\n",
       "  <th>Omnibus:</th>       <td>37.857</td> <th>  Durbin-Watson:     </th> <td>   0.101</td>\n",
       "</tr>\n",
       "<tr>\n",
       "  <th>Prob(Omnibus):</th> <td> 0.000</td> <th>  Jarque-Bera (JB):  </th> <td>  57.128</td>\n",
       "</tr>\n",
       "<tr>\n",
       "  <th>Skew:</th>          <td> 0.990</td> <th>  Prob(JB):          </th> <td>3.93e-13</td>\n",
       "</tr>\n",
       "<tr>\n",
       "  <th>Kurtosis:</th>      <td> 4.530</td> <th>  Cond. No.          </th> <td>9.21e+03</td>\n",
       "</tr>\n",
       "</table><br/><br/>Warnings:<br/>[1] Standard Errors assume that the covariance matrix of the errors is correctly specified.<br/>[2] The condition number is large, 9.21e+03. This might indicate that there are<br/>strong multicollinearity or other numerical problems."
      ],
      "text/plain": [
       "<class 'statsmodels.iolib.summary.Summary'>\n",
       "\"\"\"\n",
       "                            OLS Regression Results                            \n",
       "==============================================================================\n",
       "Dep. Variable:                      y   R-squared:                       0.927\n",
       "Model:                            OLS   Adj. R-squared:                  0.927\n",
       "Method:                 Least Squares   F-statistic:                     2770.\n",
       "Date:                Sat, 26 Oct 2019   Prob (F-statistic):          1.55e-125\n",
       "Time:                        13:37:27   Log-Likelihood:                -607.90\n",
       "No. Observations:                 219   AIC:                             1220.\n",
       "Df Residuals:                     217   BIC:                             1227.\n",
       "Df Model:                           1                                         \n",
       "Covariance Type:            nonrobust                                         \n",
       "==============================================================================\n",
       "                 coef    std err          t      P>|t|      [0.025      0.975]\n",
       "------------------------------------------------------------------------------\n",
       "Intercept     30.1760      0.360     83.900      0.000      29.467      30.885\n",
       "x              0.0028   5.33e-05     52.633      0.000       0.003       0.003\n",
       "==============================================================================\n",
       "Omnibus:                       37.857   Durbin-Watson:                   0.101\n",
       "Prob(Omnibus):                  0.000   Jarque-Bera (JB):               57.128\n",
       "Skew:                           0.990   Prob(JB):                     3.93e-13\n",
       "Kurtosis:                       4.530   Cond. No.                     9.21e+03\n",
       "==============================================================================\n",
       "\n",
       "Warnings:\n",
       "[1] Standard Errors assume that the covariance matrix of the errors is correctly specified.\n",
       "[2] The condition number is large, 9.21e+03. This might indicate that there are\n",
       "strong multicollinearity or other numerical problems.\n",
       "\"\"\""
      ]
     },
     "execution_count": 91,
     "metadata": {},
     "output_type": "execute_result"
    }
   ],
   "source": [
    "linearRegressor = LinearRegression()\n",
    "x = gdp_lifeexp.iloc[:, 1].values.reshape(-1, 1)\n",
    "y = gdp_lifeexp.iloc[:, 2].values\n",
    "linearRegressor.fit(x, y)\n",
    "yPrediction=linearRegressor.predict(x)\n",
    "\n",
    "# Fit regression model (using the natural log of one of the regressors)\n",
    "results = smf.ols('y~x',data=gdp_lifeexp).fit()\n",
    "\n",
    "# Visualising the training set results\n",
    "plot.scatter(x, y, color = 'orange')\n",
    "plot.plot(x, yPrediction, color = 'blue')\n",
    "plot.title('Life Expectancy Vs Income')\n",
    "plot.xlabel('Income')\n",
    "plot.ylabel('Life Expectancy')\n",
    "plot.show()\n",
    "\n",
    "# Inspect the results\n",
    "results.summary()"
   ]
  },
  {
   "cell_type": "code",
   "execution_count": 92,
   "metadata": {},
   "outputs": [
    {
     "data": {
      "image/png": "[encoded data removed]",
      "text/plain": [
       "<Figure size 432x288 with 1 Axes>"
      ]
     },
     "metadata": {
      "needs_background": "light"
     },
     "output_type": "display_data"
    },
    {
     "data": {
      "text/html": [
       "<table class=\"simpletable\">\n",
       "<caption>OLS Regression Results</caption>\n",
       "<tr>\n",
       "  <th>Dep. Variable:</th>            <td>y</td>        <th>  R-squared:         </th> <td>   0.958</td> \n",
       "</tr>\n",
       "<tr>\n",
       "  <th>Model:</th>                   <td>OLS</td>       <th>  Adj. R-squared:    </th> <td>   0.958</td> \n",
       "</tr>\n",
       "<tr>\n",
       "  <th>Method:</th>             <td>Least Squares</td>  <th>  F-statistic:       </th> <td>   4988.</td> \n",
       "</tr>\n",
       "<tr>\n",
       "  <th>Date:</th>             <td>Sat, 26 Oct 2019</td> <th>  Prob (F-statistic):</th> <td>1.05e-151</td>\n",
       "</tr>\n",
       "<tr>\n",
       "  <th>Time:</th>                 <td>13:37:27</td>     <th>  Log-Likelihood:    </th> <td> -547.11</td> \n",
       "</tr>\n",
       "<tr>\n",
       "  <th>No. Observations:</th>      <td>   219</td>      <th>  AIC:               </th> <td>   1098.</td> \n",
       "</tr>\n",
       "<tr>\n",
       "  <th>Df Residuals:</th>          <td>   217</td>      <th>  BIC:               </th> <td>   1105.</td> \n",
       "</tr>\n",
       "<tr>\n",
       "  <th>Df Model:</th>              <td>     1</td>      <th>                     </th>     <td> </td>    \n",
       "</tr>\n",
       "<tr>\n",
       "  <th>Covariance Type:</th>      <td>nonrobust</td>    <th>                     </th>     <td> </td>    \n",
       "</tr>\n",
       "</table>\n",
       "<table class=\"simpletable\">\n",
       "<tr>\n",
       "      <td></td>         <th>coef</th>     <th>std err</th>      <th>t</th>      <th>P>|t|</th>  <th>[0.025</th>    <th>0.975]</th>  \n",
       "</tr>\n",
       "<tr>\n",
       "  <th>Intercept</th> <td>  -72.5382</td> <td>    1.649</td> <td>  -43.993</td> <td> 0.000</td> <td>  -75.788</td> <td>  -69.288</td>\n",
       "</tr>\n",
       "<tr>\n",
       "  <th>x1</th>        <td>   14.5881</td> <td>    0.207</td> <td>   70.623</td> <td> 0.000</td> <td>   14.181</td> <td>   14.995</td>\n",
       "</tr>\n",
       "</table>\n",
       "<table class=\"simpletable\">\n",
       "<tr>\n",
       "  <th>Omnibus:</th>       <td>33.782</td> <th>  Durbin-Watson:     </th> <td>   0.154</td>\n",
       "</tr>\n",
       "<tr>\n",
       "  <th>Prob(Omnibus):</th> <td> 0.000</td> <th>  Jarque-Bera (JB):  </th> <td>  60.111</td>\n",
       "</tr>\n",
       "<tr>\n",
       "  <th>Skew:</th>          <td>-0.810</td> <th>  Prob(JB):          </th> <td>8.85e-14</td>\n",
       "</tr>\n",
       "<tr>\n",
       "  <th>Kurtosis:</th>      <td> 4.991</td> <th>  Cond. No.          </th> <td>    66.9</td>\n",
       "</tr>\n",
       "</table><br/><br/>Warnings:<br/>[1] Standard Errors assume that the covariance matrix of the errors is correctly specified."
      ],
      "text/plain": [
       "<class 'statsmodels.iolib.summary.Summary'>\n",
       "\"\"\"\n",
       "                            OLS Regression Results                            \n",
       "==============================================================================\n",
       "Dep. Variable:                      y   R-squared:                       0.958\n",
       "Model:                            OLS   Adj. R-squared:                  0.958\n",
       "Method:                 Least Squares   F-statistic:                     4988.\n",
       "Date:                Sat, 26 Oct 2019   Prob (F-statistic):          1.05e-151\n",
       "Time:                        13:37:27   Log-Likelihood:                -547.11\n",
       "No. Observations:                 219   AIC:                             1098.\n",
       "Df Residuals:                     217   BIC:                             1105.\n",
       "Df Model:                           1                                         \n",
       "Covariance Type:            nonrobust                                         \n",
       "==============================================================================\n",
       "                 coef    std err          t      P>|t|      [0.025      0.975]\n",
       "------------------------------------------------------------------------------\n",
       "Intercept    -72.5382      1.649    -43.993      0.000     -75.788     -69.288\n",
       "x1            14.5881      0.207     70.623      0.000      14.181      14.995\n",
       "==============================================================================\n",
       "Omnibus:                       33.782   Durbin-Watson:                   0.154\n",
       "Prob(Omnibus):                  0.000   Jarque-Bera (JB):               60.111\n",
       "Skew:                          -0.810   Prob(JB):                     8.85e-14\n",
       "Kurtosis:                       4.991   Cond. No.                         66.9\n",
       "==============================================================================\n",
       "\n",
       "Warnings:\n",
       "[1] Standard Errors assume that the covariance matrix of the errors is correctly specified.\n",
       "\"\"\""
      ]
     },
     "execution_count": 92,
     "metadata": {},
     "output_type": "execute_result"
    }
   ],
   "source": [
    "linearRegressor = LinearRegression()\n",
    "x = gdp_lifeexp.iloc[:, 1].values.reshape(-1, 1)\n",
    "y = gdp_lifeexp.iloc[:, 2].values\n",
    "x1 = np.log(x)\n",
    "\n",
    "\n",
    "linearRegressor.fit(x1, y)\n",
    "yPrediction=linearRegressor.predict(x1)\n",
    "\n",
    "# Visualising the training set results\n",
    "plot.scatter(x, y, color = 'orange')\n",
    "plot.plot(x, yPrediction, color = 'blue')\n",
    "plot.title('Life Expectancy Vs log(Income)')\n",
    "plot.xlabel('log(Income)')\n",
    "plot.ylabel('Life Expectancy')\n",
    "plot.show()\n",
    "\n",
    "# Fit regression model (using the natural log of one of the regressors)\n",
    "results = smf.ols('y ~ x1',data=gdp_lifeexp).fit()\n",
    "\n",
    "# Inspect the results\n",
    "results.summary()"
   ]
  },
  {
   "cell_type": "code",
   "execution_count": 93,
   "metadata": {},
   "outputs": [],
   "source": [
    "gdp = pd.read_csv(\"C:/Users/manvi/OneDrive/Documents/Information Visualisation/ddf--gapminder--systema_globalis-master/ddf--gapminder--systema_globalis-master/ddf--datapoints--income_per_person_gdppercapita_ppp_inflation_adjusted--by--geo--time.csv\")\n",
    "child_deaths = pd.read_csv(\"C:/Users/manvi/OneDrive/Documents/Information Visualisation/ddf--gapminder--systema_globalis-master/ddf--gapminder--systema_globalis-master/ddf--datapoints--number_of_child_deaths--by--geo--time.csv\")\n",
    "\n",
    "gdp_childdeaths = pd.merge(gdp,child_deaths, how='inner',left_on=['geo','time'], right_on=['geo','time'])\n",
    "\n",
    "gdp_childdeaths=gdp_childdeaths.groupby(['time']).agg({'time':np.mean,'income_per_person_gdppercapita_ppp_inflation_adjusted': np.mean, \n",
    "                                      'number_of_child_deaths': np.sum})\n"
   ]
  },
  {
   "cell_type": "code",
   "execution_count": 94,
   "metadata": {},
   "outputs": [
    {
     "name": "stdout",
     "output_type": "stream",
     "text": [
      "data1: mean=4433.916 stdv=4790.589\n",
      "data2: mean=19655355.981 stdv=5140074.262\n"
     ]
    },
    {
     "data": {
      "image/png": "[encoded data removed]",
      "text/plain": [
       "<Figure size 432x288 with 1 Axes>"
      ]
     },
     "metadata": {
      "needs_background": "light"
     },
     "output_type": "display_data"
    }
   ],
   "source": [
    "# generate related variables\n",
    "# prepare data\n",
    "data1 = gdp_childdeaths['income_per_person_gdppercapita_ppp_inflation_adjusted']\n",
    "data2 = gdp_childdeaths['number_of_child_deaths']\n",
    "# summarize\n",
    "print('data1: mean=%.3f stdv=%.3f' % (np.mean(data1), np.std(data1)))\n",
    "print('data2: mean=%.3f stdv=%.3f' % (np.mean(data2), np.std(data2)))\n",
    "# plot\n",
    "plot.scatter(data1, data2)\n",
    "plot.show()"
   ]
  },
  {
   "cell_type": "code",
   "execution_count": 95,
   "metadata": {},
   "outputs": [
    {
     "data": {
      "image/png": "[encoded data removed]",
      "text/plain": [
       "<Figure size 432x288 with 1 Axes>"
      ]
     },
     "metadata": {
      "needs_background": "light"
     },
     "output_type": "display_data"
    },
    {
     "data": {
      "text/html": [
       "<table class=\"simpletable\">\n",
       "<caption>OLS Regression Results</caption>\n",
       "<tr>\n",
       "  <th>Dep. Variable:</th>            <td>y</td>        <th>  R-squared:         </th> <td>   0.689</td>\n",
       "</tr>\n",
       "<tr>\n",
       "  <th>Model:</th>                   <td>OLS</td>       <th>  Adj. R-squared:    </th> <td>   0.688</td>\n",
       "</tr>\n",
       "<tr>\n",
       "  <th>Method:</th>             <td>Least Squares</td>  <th>  F-statistic:       </th> <td>   474.3</td>\n",
       "</tr>\n",
       "<tr>\n",
       "  <th>Date:</th>             <td>Sat, 26 Oct 2019</td> <th>  Prob (F-statistic):</th> <td>3.38e-56</td>\n",
       "</tr>\n",
       "<tr>\n",
       "  <th>Time:</th>                 <td>13:37:28</td>     <th>  Log-Likelihood:    </th> <td> -3518.1</td>\n",
       "</tr>\n",
       "<tr>\n",
       "  <th>No. Observations:</th>      <td>   216</td>      <th>  AIC:               </th> <td>   7040.</td>\n",
       "</tr>\n",
       "<tr>\n",
       "  <th>Df Residuals:</th>          <td>   214</td>      <th>  BIC:               </th> <td>   7047.</td>\n",
       "</tr>\n",
       "<tr>\n",
       "  <th>Df Model:</th>              <td>     1</td>      <th>                     </th>     <td> </td>   \n",
       "</tr>\n",
       "<tr>\n",
       "  <th>Covariance Type:</th>      <td>nonrobust</td>    <th>                     </th>     <td> </td>   \n",
       "</tr>\n",
       "</table>\n",
       "<table class=\"simpletable\">\n",
       "<tr>\n",
       "      <td></td>         <th>coef</th>     <th>std err</th>      <th>t</th>      <th>P>|t|</th>  <th>[0.025</th>    <th>0.975]</th>  \n",
       "</tr>\n",
       "<tr>\n",
       "  <th>Intercept</th> <td>  2.36e+07</td> <td> 2.67e+05</td> <td>   88.419</td> <td> 0.000</td> <td> 2.31e+07</td> <td> 2.41e+07</td>\n",
       "</tr>\n",
       "<tr>\n",
       "  <th>x</th>         <td> -890.6690</td> <td>   40.897</td> <td>  -21.778</td> <td> 0.000</td> <td> -971.282</td> <td> -810.056</td>\n",
       "</tr>\n",
       "</table>\n",
       "<table class=\"simpletable\">\n",
       "<tr>\n",
       "  <th>Omnibus:</th>       <td>20.573</td> <th>  Durbin-Watson:     </th> <td>   0.013</td>\n",
       "</tr>\n",
       "<tr>\n",
       "  <th>Prob(Omnibus):</th> <td> 0.000</td> <th>  Jarque-Bera (JB):  </th> <td>  11.304</td>\n",
       "</tr>\n",
       "<tr>\n",
       "  <th>Skew:</th>          <td>-0.393</td> <th>  Prob(JB):          </th> <td> 0.00351</td>\n",
       "</tr>\n",
       "<tr>\n",
       "  <th>Kurtosis:</th>      <td> 2.201</td> <th>  Cond. No.          </th> <td>8.89e+03</td>\n",
       "</tr>\n",
       "</table><br/><br/>Warnings:<br/>[1] Standard Errors assume that the covariance matrix of the errors is correctly specified.<br/>[2] The condition number is large, 8.89e+03. This might indicate that there are<br/>strong multicollinearity or other numerical problems."
      ],
      "text/plain": [
       "<class 'statsmodels.iolib.summary.Summary'>\n",
       "\"\"\"\n",
       "                            OLS Regression Results                            \n",
       "==============================================================================\n",
       "Dep. Variable:                      y   R-squared:                       0.689\n",
       "Model:                            OLS   Adj. R-squared:                  0.688\n",
       "Method:                 Least Squares   F-statistic:                     474.3\n",
       "Date:                Sat, 26 Oct 2019   Prob (F-statistic):           3.38e-56\n",
       "Time:                        13:37:28   Log-Likelihood:                -3518.1\n",
       "No. Observations:                 216   AIC:                             7040.\n",
       "Df Residuals:                     214   BIC:                             7047.\n",
       "Df Model:                           1                                         \n",
       "Covariance Type:            nonrobust                                         \n",
       "==============================================================================\n",
       "                 coef    std err          t      P>|t|      [0.025      0.975]\n",
       "------------------------------------------------------------------------------\n",
       "Intercept    2.36e+07   2.67e+05     88.419      0.000    2.31e+07    2.41e+07\n",
       "x           -890.6690     40.897    -21.778      0.000    -971.282    -810.056\n",
       "==============================================================================\n",
       "Omnibus:                       20.573   Durbin-Watson:                   0.013\n",
       "Prob(Omnibus):                  0.000   Jarque-Bera (JB):               11.304\n",
       "Skew:                          -0.393   Prob(JB):                      0.00351\n",
       "Kurtosis:                       2.201   Cond. No.                     8.89e+03\n",
       "==============================================================================\n",
       "\n",
       "Warnings:\n",
       "[1] Standard Errors assume that the covariance matrix of the errors is correctly specified.\n",
       "[2] The condition number is large, 8.89e+03. This might indicate that there are\n",
       "strong multicollinearity or other numerical problems.\n",
       "\"\"\""
      ]
     },
     "execution_count": 95,
     "metadata": {},
     "output_type": "execute_result"
    }
   ],
   "source": [
    "linearRegressor = LinearRegression()\n",
    "x = gdp_childdeaths.iloc[:, 1].values.reshape(-1, 1)\n",
    "y = gdp_childdeaths.iloc[:, 2].values\n",
    "linearRegressor.fit(x, y)\n",
    "yPrediction=linearRegressor.predict(x)\n",
    "\n",
    "# Fit regression model (using the natural log of one of the regressors)\n",
    "results = smf.ols('y~x',data=gdp_childdeaths).fit()\n",
    "\n",
    "# Visualising the training set results\n",
    "plot.scatter(x, y, color = 'orange')\n",
    "plot.plot(x, yPrediction, color = 'blue')\n",
    "plot.title('Child Mortality Vs Income')\n",
    "plot.xlabel('Income')\n",
    "plot.ylabel('Child Mortality')\n",
    "plot.show()\n",
    "\n",
    "# Inspect the results\n",
    "results.summary()"
   ]
  },
  {
   "cell_type": "code",
   "execution_count": 96,
   "metadata": {},
   "outputs": [
    {
     "data": {
      "image/png": "[encoded data removed]",
      "text/plain": [
       "<Figure size 432x288 with 1 Axes>"
      ]
     },
     "metadata": {
      "needs_background": "light"
     },
     "output_type": "display_data"
    },
    {
     "data": {
      "text/html": [
       "<table class=\"simpletable\">\n",
       "<caption>OLS Regression Results</caption>\n",
       "<tr>\n",
       "  <th>Dep. Variable:</th>            <td>y</td>        <th>  R-squared:         </th> <td>   0.758</td>\n",
       "</tr>\n",
       "<tr>\n",
       "  <th>Model:</th>                   <td>OLS</td>       <th>  Adj. R-squared:    </th> <td>   0.757</td>\n",
       "</tr>\n",
       "<tr>\n",
       "  <th>Method:</th>             <td>Least Squares</td>  <th>  F-statistic:       </th> <td>   670.9</td>\n",
       "</tr>\n",
       "<tr>\n",
       "  <th>Date:</th>             <td>Sat, 26 Oct 2019</td> <th>  Prob (F-statistic):</th> <td>6.79e-68</td>\n",
       "</tr>\n",
       "<tr>\n",
       "  <th>Time:</th>                 <td>13:37:28</td>     <th>  Log-Likelihood:    </th> <td>  84.000</td>\n",
       "</tr>\n",
       "<tr>\n",
       "  <th>No. Observations:</th>      <td>   216</td>      <th>  AIC:               </th> <td>  -164.0</td>\n",
       "</tr>\n",
       "<tr>\n",
       "  <th>Df Residuals:</th>          <td>   214</td>      <th>  BIC:               </th> <td>  -157.2</td>\n",
       "</tr>\n",
       "<tr>\n",
       "  <th>Df Model:</th>              <td>     1</td>      <th>                     </th>     <td> </td>   \n",
       "</tr>\n",
       "<tr>\n",
       "  <th>Covariance Type:</th>      <td>nonrobust</td>    <th>                     </th>     <td> </td>   \n",
       "</tr>\n",
       "</table>\n",
       "<table class=\"simpletable\">\n",
       "<tr>\n",
       "      <td></td>         <th>coef</th>     <th>std err</th>      <th>t</th>      <th>P>|t|</th>  <th>[0.025</th>    <th>0.975]</th>  \n",
       "</tr>\n",
       "<tr>\n",
       "  <th>Intercept</th> <td>   17.0159</td> <td>    0.015</td> <td> 1113.853</td> <td> 0.000</td> <td>   16.986</td> <td>   17.046</td>\n",
       "</tr>\n",
       "<tr>\n",
       "  <th>x</th>         <td>-6.062e-05</td> <td> 2.34e-06</td> <td>  -25.902</td> <td> 0.000</td> <td>-6.52e-05</td> <td> -5.6e-05</td>\n",
       "</tr>\n",
       "</table>\n",
       "<table class=\"simpletable\">\n",
       "<tr>\n",
       "  <th>Omnibus:</th>       <td>38.707</td> <th>  Durbin-Watson:     </th> <td>   0.011</td>\n",
       "</tr>\n",
       "<tr>\n",
       "  <th>Prob(Omnibus):</th> <td> 0.000</td> <th>  Jarque-Bera (JB):  </th> <td>  18.641</td>\n",
       "</tr>\n",
       "<tr>\n",
       "  <th>Skew:</th>          <td>-0.544</td> <th>  Prob(JB):          </th> <td>8.96e-05</td>\n",
       "</tr>\n",
       "<tr>\n",
       "  <th>Kurtosis:</th>      <td> 2.058</td> <th>  Cond. No.          </th> <td>8.89e+03</td>\n",
       "</tr>\n",
       "</table><br/><br/>Warnings:<br/>[1] Standard Errors assume that the covariance matrix of the errors is correctly specified.<br/>[2] The condition number is large, 8.89e+03. This might indicate that there are<br/>strong multicollinearity or other numerical problems."
      ],
      "text/plain": [
       "<class 'statsmodels.iolib.summary.Summary'>\n",
       "\"\"\"\n",
       "                            OLS Regression Results                            \n",
       "==============================================================================\n",
       "Dep. Variable:                      y   R-squared:                       0.758\n",
       "Model:                            OLS   Adj. R-squared:                  0.757\n",
       "Method:                 Least Squares   F-statistic:                     670.9\n",
       "Date:                Sat, 26 Oct 2019   Prob (F-statistic):           6.79e-68\n",
       "Time:                        13:37:28   Log-Likelihood:                 84.000\n",
       "No. Observations:                 216   AIC:                            -164.0\n",
       "Df Residuals:                     214   BIC:                            -157.2\n",
       "Df Model:                           1                                         \n",
       "Covariance Type:            nonrobust                                         \n",
       "==============================================================================\n",
       "                 coef    std err          t      P>|t|      [0.025      0.975]\n",
       "------------------------------------------------------------------------------\n",
       "Intercept     17.0159      0.015   1113.853      0.000      16.986      17.046\n",
       "x          -6.062e-05   2.34e-06    -25.902      0.000   -6.52e-05    -5.6e-05\n",
       "==============================================================================\n",
       "Omnibus:                       38.707   Durbin-Watson:                   0.011\n",
       "Prob(Omnibus):                  0.000   Jarque-Bera (JB):               18.641\n",
       "Skew:                          -0.544   Prob(JB):                     8.96e-05\n",
       "Kurtosis:                       2.058   Cond. No.                     8.89e+03\n",
       "==============================================================================\n",
       "\n",
       "Warnings:\n",
       "[1] Standard Errors assume that the covariance matrix of the errors is correctly specified.\n",
       "[2] The condition number is large, 8.89e+03. This might indicate that there are\n",
       "strong multicollinearity or other numerical problems.\n",
       "\"\"\""
      ]
     },
     "execution_count": 96,
     "metadata": {},
     "output_type": "execute_result"
    }
   ],
   "source": [
    "linearRegressor = LinearRegression()\n",
    "x = gdp_childdeaths.iloc[:, 1].values.reshape(-1, 1)\n",
    "y = gdp_childdeaths.iloc[:, 2].values\n",
    "y=np.log(y)\n",
    "\n",
    "linearRegressor.fit(x, y)\n",
    "yPrediction=linearRegressor.predict(x)\n",
    "\n",
    "# Visualising the training set results\n",
    "plot.scatter(x, y, color = 'orange')\n",
    "plot.plot(x, yPrediction, color = 'blue')\n",
    "plot.title('log(Child Mortality) Vs Income')\n",
    "plot.xlabel('Income')\n",
    "plot.ylabel('log(Child Mortality)')\n",
    "plot.show()\n",
    "\n",
    "# Fit regression model (using the natural log of one of the regressors)\n",
    "results = smf.ols('y~x',data=gdp_childdeaths).fit()\n",
    "\n",
    "# Inspect the results\n",
    "results.summary()"
   ]
  },
  {
   "cell_type": "code",
   "execution_count": 97,
   "metadata": {},
   "outputs": [
    {
     "data": {
      "image/png": "[encoded data removed]",
      "text/plain": [
       "<Figure size 432x288 with 1 Axes>"
      ]
     },
     "metadata": {
      "needs_background": "light"
     },
     "output_type": "display_data"
    },
    {
     "data": {
      "text/html": [
       "<table class=\"simpletable\">\n",
       "<caption>OLS Regression Results</caption>\n",
       "<tr>\n",
       "  <th>Dep. Variable:</th>            <td>y</td>        <th>  R-squared:         </th> <td>   0.944</td> \n",
       "</tr>\n",
       "<tr>\n",
       "  <th>Model:</th>                   <td>OLS</td>       <th>  Adj. R-squared:    </th> <td>   0.943</td> \n",
       "</tr>\n",
       "<tr>\n",
       "  <th>Method:</th>             <td>Least Squares</td>  <th>  F-statistic:       </th> <td>   1795.</td> \n",
       "</tr>\n",
       "<tr>\n",
       "  <th>Date:</th>             <td>Sat, 26 Oct 2019</td> <th>  Prob (F-statistic):</th> <td>4.89e-134</td>\n",
       "</tr>\n",
       "<tr>\n",
       "  <th>Time:</th>                 <td>13:37:28</td>     <th>  Log-Likelihood:    </th> <td>  241.98</td> \n",
       "</tr>\n",
       "<tr>\n",
       "  <th>No. Observations:</th>      <td>   216</td>      <th>  AIC:               </th> <td>  -478.0</td> \n",
       "</tr>\n",
       "<tr>\n",
       "  <th>Df Residuals:</th>          <td>   213</td>      <th>  BIC:               </th> <td>  -467.8</td> \n",
       "</tr>\n",
       "<tr>\n",
       "  <th>Df Model:</th>              <td>     2</td>      <th>                     </th>     <td> </td>    \n",
       "</tr>\n",
       "<tr>\n",
       "  <th>Covariance Type:</th>      <td>nonrobust</td>    <th>                     </th>     <td> </td>    \n",
       "</tr>\n",
       "</table>\n",
       "<table class=\"simpletable\">\n",
       "<tr>\n",
       "       <td></td>         <th>coef</th>     <th>std err</th>      <th>t</th>      <th>P>|t|</th>  <th>[0.025</th>    <th>0.975]</th>  \n",
       "</tr>\n",
       "<tr>\n",
       "  <th>Intercept</th>  <td>   16.0881</td> <td>    0.036</td> <td>  451.017</td> <td> 0.000</td> <td>   16.018</td> <td>   16.158</td>\n",
       "</tr>\n",
       "<tr>\n",
       "  <th>x</th>          <td>   -0.0003</td> <td> 7.64e-06</td> <td>  -34.228</td> <td> 0.000</td> <td>   -0.000</td> <td>   -0.000</td>\n",
       "</tr>\n",
       "<tr>\n",
       "  <th>np.sqrt(x)</th> <td>    0.0310</td> <td>    0.001</td> <td>   26.584</td> <td> 0.000</td> <td>    0.029</td> <td>    0.033</td>\n",
       "</tr>\n",
       "</table>\n",
       "<table class=\"simpletable\">\n",
       "<tr>\n",
       "  <th>Omnibus:</th>       <td> 3.742</td> <th>  Durbin-Watson:     </th> <td>   0.080</td>\n",
       "</tr>\n",
       "<tr>\n",
       "  <th>Prob(Omnibus):</th> <td> 0.154</td> <th>  Jarque-Bera (JB):  </th> <td>   3.817</td>\n",
       "</tr>\n",
       "<tr>\n",
       "  <th>Skew:</th>          <td>-0.307</td> <th>  Prob(JB):          </th> <td>   0.148</td>\n",
       "</tr>\n",
       "<tr>\n",
       "  <th>Kurtosis:</th>      <td> 2.784</td> <th>  Cond. No.          </th> <td>4.31e+04</td>\n",
       "</tr>\n",
       "</table><br/><br/>Warnings:<br/>[1] Standard Errors assume that the covariance matrix of the errors is correctly specified.<br/>[2] The condition number is large, 4.31e+04. This might indicate that there are<br/>strong multicollinearity or other numerical problems."
      ],
      "text/plain": [
       "<class 'statsmodels.iolib.summary.Summary'>\n",
       "\"\"\"\n",
       "                            OLS Regression Results                            \n",
       "==============================================================================\n",
       "Dep. Variable:                      y   R-squared:                       0.944\n",
       "Model:                            OLS   Adj. R-squared:                  0.943\n",
       "Method:                 Least Squares   F-statistic:                     1795.\n",
       "Date:                Sat, 26 Oct 2019   Prob (F-statistic):          4.89e-134\n",
       "Time:                        13:37:28   Log-Likelihood:                 241.98\n",
       "No. Observations:                 216   AIC:                            -478.0\n",
       "Df Residuals:                     213   BIC:                            -467.8\n",
       "Df Model:                           2                                         \n",
       "Covariance Type:            nonrobust                                         \n",
       "==============================================================================\n",
       "                 coef    std err          t      P>|t|      [0.025      0.975]\n",
       "------------------------------------------------------------------------------\n",
       "Intercept     16.0881      0.036    451.017      0.000      16.018      16.158\n",
       "x             -0.0003   7.64e-06    -34.228      0.000      -0.000      -0.000\n",
       "np.sqrt(x)     0.0310      0.001     26.584      0.000       0.029       0.033\n",
       "==============================================================================\n",
       "Omnibus:                        3.742   Durbin-Watson:                   0.080\n",
       "Prob(Omnibus):                  0.154   Jarque-Bera (JB):                3.817\n",
       "Skew:                          -0.307   Prob(JB):                        0.148\n",
       "Kurtosis:                       2.784   Cond. No.                     4.31e+04\n",
       "==============================================================================\n",
       "\n",
       "Warnings:\n",
       "[1] Standard Errors assume that the covariance matrix of the errors is correctly specified.\n",
       "[2] The condition number is large, 4.31e+04. This might indicate that there are\n",
       "strong multicollinearity or other numerical problems.\n",
       "\"\"\""
      ]
     },
     "execution_count": 97,
     "metadata": {},
     "output_type": "execute_result"
    }
   ],
   "source": [
    "linearRegressor = LinearRegression()\n",
    "x = gdp_childdeaths.iloc[:, 1].values.reshape(-1, 1)\n",
    "y = gdp_childdeaths.iloc[:, 2].values\n",
    "y=np.log(y)\n",
    "\n",
    "linearRegressor.fit(x+np.sqrt(x), y)\n",
    "yPrediction=linearRegressor.predict(x+np.sqrt(x))\n",
    "\n",
    "# Visualising the training set results\n",
    "plot.scatter(x, y, color = 'orange')\n",
    "plot.plot(x+np.sqrt(x), yPrediction, color = 'blue')\n",
    "plot.title('log(Child Mortality) Vs (Income+log(Income)')\n",
    "plot.xlabel('(Income+log(Income)')\n",
    "plot.ylabel('log(Child Mortality)')\n",
    "plot.show()\n",
    "\n",
    "# Fit regression model (using the natural log of one of the regressors)\n",
    "results = smf.ols('y~x+np.sqrt(x)',data=gdp_childdeaths).fit()\n",
    "\n",
    "# Inspect the results\n",
    "results.summary()"
   ]
  },
  {
   "cell_type": "code",
   "execution_count": null,
   "metadata": {},
   "outputs": [],
   "source": []
  }
 ],
 "metadata": {
  "kernelspec": {
   "display_name": "Python 3",
   "language": "python",
   "name": "python3"
  },
  "language_info": {
   "codemirror_mode": {
    "name": "ipython",
    "version": 3
   },
   "file_extension": ".py",
   "mimetype": "text/x-python",
   "name": "python",
   "nbconvert_exporter": "python",
   "pygments_lexer": "ipython3",
   "version": "3.7.3"
  }
 },
 "nbformat": 4,
 "nbformat_minor": 2
}
